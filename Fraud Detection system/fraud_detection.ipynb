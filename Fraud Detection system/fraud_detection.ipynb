{
 "cells": [
  {
   "cell_type": "code",
   "execution_count": 2,
   "id": "947e3e7b-21e7-466d-a806-078e2f56677a",
   "metadata": {},
   "outputs": [],
   "source": [
    "# fraud_detection\n",
    "\n",
    "import os\n",
    "import pandas as pd\n",
    "import joblib\n",
    "from sklearn.model_selection import train_test_split\n",
    "from sklearn.linear_model import LogisticRegression\n",
    "from sklearn.ensemble import RandomForestClassifier\n",
    "from sklearn.metrics import classification_report, confusion_matrix"
   ]
  },
  {
   "cell_type": "code",
   "execution_count": 3,
   "id": "b2b5562e-97f7-47ee-95e2-dfad3e028602",
   "metadata": {},
   "outputs": [],
   "source": [
    "# Load and Combine Data \n",
    "data_folder_path = \"data\" \n",
    "Dataset = []\n",
    "\n",
    "for filename in sorted(os.listdir(data_folder_path)):\n",
    "    if filename.endswith('.pkl'):\n",
    "        file_path = os.path.join(data_folder_path, filename)\n",
    "        df = pd.read_pickle(file_path)\n",
    "        Dataset.append(df)\n",
    "\n",
    "full_df = pd.concat(Dataset, ignore_index=True)"
   ]
  },
  {
   "cell_type": "code",
   "execution_count": 4,
   "id": "c8dd7012-019e-4ea1-b77a-bcca162a911a",
   "metadata": {},
   "outputs": [
    {
     "data": {
      "text/html": [
       "<div>\n",
       "<style scoped>\n",
       "    .dataframe tbody tr th:only-of-type {\n",
       "        vertical-align: middle;\n",
       "    }\n",
       "\n",
       "    .dataframe tbody tr th {\n",
       "        vertical-align: top;\n",
       "    }\n",
       "\n",
       "    .dataframe thead th {\n",
       "        text-align: right;\n",
       "    }\n",
       "</style>\n",
       "<table border=\"1\" class=\"dataframe\">\n",
       "  <thead>\n",
       "    <tr style=\"text-align: right;\">\n",
       "      <th></th>\n",
       "      <th>TRANSACTION_ID</th>\n",
       "      <th>TX_DATETIME</th>\n",
       "      <th>CUSTOMER_ID</th>\n",
       "      <th>TERMINAL_ID</th>\n",
       "      <th>TX_AMOUNT</th>\n",
       "      <th>TX_TIME_SECONDS</th>\n",
       "      <th>TX_TIME_DAYS</th>\n",
       "      <th>TX_FRAUD</th>\n",
       "      <th>TX_FRAUD_SCENARIO</th>\n",
       "    </tr>\n",
       "  </thead>\n",
       "  <tbody>\n",
       "    <tr>\n",
       "      <th>0</th>\n",
       "      <td>0</td>\n",
       "      <td>2018-04-01 00:00:31</td>\n",
       "      <td>596</td>\n",
       "      <td>3156</td>\n",
       "      <td>57.16</td>\n",
       "      <td>31</td>\n",
       "      <td>0</td>\n",
       "      <td>0</td>\n",
       "      <td>0</td>\n",
       "    </tr>\n",
       "    <tr>\n",
       "      <th>1</th>\n",
       "      <td>1</td>\n",
       "      <td>2018-04-01 00:02:10</td>\n",
       "      <td>4961</td>\n",
       "      <td>3412</td>\n",
       "      <td>81.51</td>\n",
       "      <td>130</td>\n",
       "      <td>0</td>\n",
       "      <td>0</td>\n",
       "      <td>0</td>\n",
       "    </tr>\n",
       "    <tr>\n",
       "      <th>2</th>\n",
       "      <td>2</td>\n",
       "      <td>2018-04-01 00:07:56</td>\n",
       "      <td>2</td>\n",
       "      <td>1365</td>\n",
       "      <td>146.00</td>\n",
       "      <td>476</td>\n",
       "      <td>0</td>\n",
       "      <td>0</td>\n",
       "      <td>0</td>\n",
       "    </tr>\n",
       "    <tr>\n",
       "      <th>3</th>\n",
       "      <td>3</td>\n",
       "      <td>2018-04-01 00:09:29</td>\n",
       "      <td>4128</td>\n",
       "      <td>8737</td>\n",
       "      <td>64.49</td>\n",
       "      <td>569</td>\n",
       "      <td>0</td>\n",
       "      <td>0</td>\n",
       "      <td>0</td>\n",
       "    </tr>\n",
       "    <tr>\n",
       "      <th>4</th>\n",
       "      <td>4</td>\n",
       "      <td>2018-04-01 00:10:34</td>\n",
       "      <td>927</td>\n",
       "      <td>9906</td>\n",
       "      <td>50.99</td>\n",
       "      <td>634</td>\n",
       "      <td>0</td>\n",
       "      <td>0</td>\n",
       "      <td>0</td>\n",
       "    </tr>\n",
       "  </tbody>\n",
       "</table>\n",
       "</div>"
      ],
      "text/plain": [
       "   TRANSACTION_ID         TX_DATETIME CUSTOMER_ID TERMINAL_ID  TX_AMOUNT  \\\n",
       "0               0 2018-04-01 00:00:31         596        3156      57.16   \n",
       "1               1 2018-04-01 00:02:10        4961        3412      81.51   \n",
       "2               2 2018-04-01 00:07:56           2        1365     146.00   \n",
       "3               3 2018-04-01 00:09:29        4128        8737      64.49   \n",
       "4               4 2018-04-01 00:10:34         927        9906      50.99   \n",
       "\n",
       "  TX_TIME_SECONDS TX_TIME_DAYS  TX_FRAUD  TX_FRAUD_SCENARIO  \n",
       "0              31            0         0                  0  \n",
       "1             130            0         0                  0  \n",
       "2             476            0         0                  0  \n",
       "3             569            0         0                  0  \n",
       "4             634            0         0                  0  "
      ]
     },
     "execution_count": 4,
     "metadata": {},
     "output_type": "execute_result"
    }
   ],
   "source": [
    "full_df.head()"
   ]
  },
  {
   "cell_type": "code",
   "execution_count": 5,
   "id": "8c873436-8c8f-48de-a015-d5a95678037b",
   "metadata": {},
   "outputs": [],
   "source": [
    "# Preprocessing\n",
    "full_df['TX_DATETIME'] = pd.to_datetime(full_df['TX_DATETIME'])\n",
    "\n",
    "# Extracting Features after converting it to datetime object for python\n",
    "full_df['HOUR'] = full_df['TX_DATETIME'].dt.hour\n",
    "full_df['DAY'] = full_df['TX_DATETIME'].dt.day\n",
    "full_df['WEEKDAY'] = full_df['TX_DATETIME'].dt.weekday\n",
    "\n"
   ]
  },
  {
   "cell_type": "code",
   "execution_count": 6,
   "id": "ac4290f0-a049-478b-9db9-ac131faf3fd1",
   "metadata": {},
   "outputs": [],
   "source": [
    "# Train-Test data\n",
    "features = ['TX_AMOUNT', 'HOUR', 'DAY', 'WEEKDAY']\n",
    "X = full_df[features]\n",
    "y = full_df['TX_FRAUD']\n",
    "\n",
    "X_train, X_test, y_train, y_test = train_test_split(X, y, test_size=0.3, random_state=42)\n"
   ]
  },
  {
   "cell_type": "code",
   "execution_count": 7,
   "id": "0ebc1da9-94bc-4aa2-bb28-c02a1b7a3e8b",
   "metadata": {},
   "outputs": [
    {
     "name": "stdout",
     "output_type": "stream",
     "text": [
      " Logistic Regression Results \n",
      "[[521905      0]\n",
      " [  3901    441]]\n"
     ]
    }
   ],
   "source": [
    "#  Train Logistic Regression Model\n",
    "print(\" Logistic Regression Results \")\n",
    "log_model = LogisticRegression()\n",
    "log_model.fit(X_train, y_train)\n",
    "log_preds = log_model.predict(X_test)\n",
    "print(confusion_matrix(y_test, log_preds))"
   ]
  },
  {
   "cell_type": "code",
   "execution_count": 8,
   "id": "ac3073c9-8b2a-458b-bf1b-27d8704cae9e",
   "metadata": {},
   "outputs": [
    {
     "name": "stdout",
     "output_type": "stream",
     "text": [
      "              precision    recall  f1-score   support\n",
      "\n",
      "           0       0.99      1.00      1.00    521905\n",
      "           1       1.00      0.10      0.18      4342\n",
      "\n",
      "    accuracy                           0.99    526247\n",
      "   macro avg       1.00      0.55      0.59    526247\n",
      "weighted avg       0.99      0.99      0.99    526247\n",
      "\n"
     ]
    }
   ],
   "source": [
    "print(classification_report(y_test, log_preds))"
   ]
  },
  {
   "cell_type": "code",
   "execution_count": 9,
   "id": "5d13298c-9cc4-4926-aa9c-a8b499f04af7",
   "metadata": {},
   "outputs": [
    {
     "name": "stdout",
     "output_type": "stream",
     "text": [
      "\n",
      "--- Random Forest Results ---\n",
      "[[521470    435]\n",
      " [  3370    972]]\n",
      "              precision    recall  f1-score   support\n",
      "\n",
      "           0       0.99      1.00      1.00    521905\n",
      "           1       0.69      0.22      0.34      4342\n",
      "\n",
      "    accuracy                           0.99    526247\n",
      "   macro avg       0.84      0.61      0.67    526247\n",
      "weighted avg       0.99      0.99      0.99    526247\n",
      "\n"
     ]
    }
   ],
   "source": [
    "# using Random forest\n",
    "print(\"\\n--- Random Forest Results ---\")\n",
    "rf = RandomForestClassifier(n_estimators=100)\n",
    "rf.fit(X_train, y_train)\n",
    "rf_preds = rf.predict(X_test)\n",
    "print(confusion_matrix(y_test, rf_preds))\n",
    "print(classification_report(y_test, rf_preds))"
   ]
  },
  {
   "cell_type": "code",
   "execution_count": 10,
   "id": "123b8cb9-65c0-4852-95d4-dbbcc5140581",
   "metadata": {},
   "outputs": [
    {
     "data": {
      "text/plain": [
       "['fraud_model.pkl']"
      ]
     },
     "execution_count": 10,
     "metadata": {},
     "output_type": "execute_result"
    }
   ],
   "source": [
    "joblib.dump(rf, 'fraud_model.pkl')"
   ]
  },
  {
   "cell_type": "code",
   "execution_count": 11,
   "id": "7999bee4-5097-4393-a43e-dc51ec544f13",
   "metadata": {},
   "outputs": [
    {
     "name": "stdout",
     "output_type": "stream",
     "text": [
      "Sample prediction : [1]\n"
     ]
    },
    {
     "name": "stderr",
     "output_type": "stream",
     "text": [
      "/opt/anaconda3/lib/python3.12/site-packages/sklearn/base.py:493: UserWarning: X does not have valid feature names, but RandomForestClassifier was fitted with feature names\n",
      "  warnings.warn(\n"
     ]
    }
   ],
   "source": [
    "# Custom Sample Test \n",
    "sample = [[250, 10, 3, 2]]  # Sample input: High amount, day & time\n",
    "prediction = rf.predict(sample)\n",
    "print(\"Sample prediction :\", prediction)"
   ]
  },
  {
   "cell_type": "code",
   "execution_count": 12,
   "id": "54ff0e77-1f0e-4dc3-ac9f-9ad677dc893f",
   "metadata": {},
   "outputs": [
    {
     "name": "stdout",
     "output_type": "stream",
     "text": [
      "\n",
      "Sample Prediction (1 = fraud, 0 = legit): 1\n"
     ]
    }
   ],
   "source": [
    "print(f\"\\nSample Prediction (1 = fraud, 0 = legit): {prediction[0]}\")"
   ]
  },
  {
   "cell_type": "code",
   "execution_count": 1,
   "id": "d201b1f3-df5c-4832-9752-d74dd4ca87d6",
   "metadata": {},
   "outputs": [
    {
     "name": "stdout",
     "output_type": "stream",
     "text": [
      "Overwriting app.py\n"
     ]
    }
   ],
   "source": [
    "%%writefile app.py\n",
    "\n",
    "import streamlit as st\n",
    "import joblib\n",
    "import numpy as np\n",
    "\n",
    "# Load trained model\n",
    "model = joblib.load('fraud_model.pkl')\n",
    "\n",
    "# Title\n",
    "st.title(\"💳 Fraud Transaction Detection\")\n",
    "\n",
    "# Sidebar for input\n",
    "st.sidebar.header(\"Enter Transaction Details\")\n",
    "\n",
    "amount = st.sidebar.number_input(\"Transaction Amount\", min_value=0.0, step=1.0)\n",
    "hour = st.sidebar.slider(\"Hour (0-23)\", 0, 23)\n",
    "day = st.sidebar.slider(\"Day (1-31)\", 1, 31)\n",
    "weekday = st.sidebar.selectbox(\"Weekday (0=Mon, 6=Sun)\", list(range(7)))\n",
    "\n",
    "# Prediction button\n",
    "if st.sidebar.button(\"Predict Fraud\"):\n",
    "    input_data = np.array([[amount, hour, day, weekday]])\n",
    "    prediction = model.predict(input_data)[0]\n",
    "    \n",
    "    if prediction == 1:\n",
    "        st.error(\"⚠️ This transaction is FRAUDULENT!\")\n",
    "    else:\n",
    "        st.success(\"✅ This transaction is LEGITIMATE.\")"
   ]
  },
  {
   "cell_type": "code",
   "execution_count": null,
   "id": "6b3bc867-0261-408d-950f-f09999c953a2",
   "metadata": {},
   "outputs": [],
   "source": []
  },
  {
   "cell_type": "code",
   "execution_count": null,
   "id": "80272b31-8476-4f6b-8475-2a536f991787",
   "metadata": {},
   "outputs": [],
   "source": []
  }
 ],
 "metadata": {
  "kernelspec": {
   "display_name": "Python 3 (ipykernel)",
   "language": "python",
   "name": "python3"
  },
  "language_info": {
   "codemirror_mode": {
    "name": "ipython",
    "version": 3
   },
   "file_extension": ".py",
   "mimetype": "text/x-python",
   "name": "python",
   "nbconvert_exporter": "python",
   "pygments_lexer": "ipython3",
   "version": "3.12.4"
  }
 },
 "nbformat": 4,
 "nbformat_minor": 5
}
